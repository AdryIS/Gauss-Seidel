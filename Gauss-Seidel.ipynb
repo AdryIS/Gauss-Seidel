{
 "cells": [
  {
   "cell_type": "code",
   "execution_count": 1,
   "metadata": {
    "collapsed": false
   },
   "outputs": [
    {
     "name": "stdout",
     "output_type": "stream",
     "text": [
      "La solucion es:  0.9995586294555664 -0.9998283878173828 3.0000245365447995\n"
     ]
    }
   ],
   "source": [
    "# 4x1 + x2 - x3 = 0\n",
    "# 2x1 + 5x2 + 2x3 = 3\n",
    "# x1 + 2x2 + 4x3 = 11\n",
    "\n",
    "def getX1(x2,x3):\n",
    "    return (x3-x2)/4\n",
    "def getX2(x1,x3):\n",
    "    return(3-2*x1-2*x3)/5\n",
    "def getX3(x1,x2):\n",
    "    return(11-x1-2*x2)/4\n",
    "\n",
    "x1 = 0\n",
    "x2 = 0\n",
    "x3 = 0\n",
    "E = 0.01\n",
    "\n",
    "for i in range(100):\n",
    "    x1i = getX1(x2,x3)\n",
    "    x2i = getX2(x1i,x3)\n",
    "    x3i = getX3(x1i,x2i)\n",
    "    EX1 = abs(x1-x1i)\n",
    "    EX2 = abs(x2-x2i)\n",
    "    EX3 = abs(x3-x3i)\n",
    "    x1 = x1i\n",
    "    x2 = x2i\n",
    "    x3 = x3i\n",
    "    if EX1 < E and EX2 < E and EX3 < E:\n",
    "        break\n",
    "print(\"La solucion es: \",x1,x2,x3)\n",
    "    "
   ]
  },
  {
   "cell_type": "code",
   "execution_count": 0,
   "metadata": {
    "collapsed": false
   },
   "outputs": [
   ],
   "source": [
   ]
  }
 ],
 "metadata": {
  "kernelspec": {
   "display_name": "Python 3 (Anaconda 5)",
   "language": "python",
   "name": "anaconda5"
  },
  "language_info": {
   "codemirror_mode": {
    "name": "ipython",
    "version": 3
   },
   "file_extension": ".py",
   "mimetype": "text/x-python",
   "name": "python",
   "nbconvert_exporter": "python",
   "pygments_lexer": "ipython3",
   "version": "3.6.5"
  }
 },
 "nbformat": 4,
 "nbformat_minor": 0
}